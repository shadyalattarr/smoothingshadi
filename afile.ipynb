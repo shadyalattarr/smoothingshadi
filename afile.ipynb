{
 "cells": [
  {
   "cell_type": "code",
   "execution_count": 1,
   "id": "58c675ea",
   "metadata": {},
   "outputs": [
    {
     "name": "stderr",
     "output_type": "stream",
     "text": [
      "Cloning into 'smoothing'...\n"
     ]
    }
   ],
   "source": [
    "!git clone https://github.com/locuslab/smoothing.git"
   ]
  },
  {
   "cell_type": "code",
   "execution_count": 5,
   "id": "1cbcf399",
   "metadata": {},
   "outputs": [
    {
     "name": "stdout",
     "output_type": "stream",
     "text": [
      "c:\\Users\\reda\\Desktop\\Certified Defenses\\Baseline\\Cohen 2019 Trial 2\\smoothing\\smoothingTheactualCode\n"
     ]
    }
   ],
   "source": [
    "%cd smoothingTheactualCode/"
   ]
  },
  {
   "cell_type": "code",
   "execution_count": 6,
   "id": "0f9db692",
   "metadata": {},
   "outputs": [
    {
     "name": "stdout",
     "output_type": "stream",
     "text": [
      " Volume in drive C is OS\n",
      " Volume Serial Number is 7C11-8049\n",
      "\n",
      " Directory of c:\\Users\\reda\\Desktop\\Certified Defenses\\Baseline\\Cohen 2019 Trial 2\\smoothing\\smoothingTheactualCode\n",
      "\n",
      "26/08/2025  01:37 PM    <DIR>          .\n",
      "26/08/2025  01:38 PM    <DIR>          ..\n",
      "26/08/2025  01:37 PM                30 .gitignore\n",
      "26/08/2025  01:37 PM    <DIR>          analysis\n",
      "26/08/2025  01:37 PM    <DIR>          code\n",
      "26/08/2025  01:37 PM    <DIR>          data\n",
      "26/08/2025  01:37 PM             5,134 experiments.MD\n",
      "26/08/2025  01:37 PM    <DIR>          figures\n",
      "26/08/2025  01:37 PM            12,398 README.md\n",
      "               3 File(s)         17,562 bytes\n",
      "               6 Dir(s)  114,892,541,952 bytes free\n"
     ]
    }
   ],
   "source": [
    "%ls"
   ]
  },
  {
   "cell_type": "code",
   "execution_count": null,
   "id": "78fc889e",
   "metadata": {},
   "outputs": [],
   "source": []
  }
 ],
 "metadata": {
  "kernelspec": {
   "display_name": "smoothing3118",
   "language": "python",
   "name": "python3"
  },
  "language_info": {
   "codemirror_mode": {
    "name": "ipython",
    "version": 3
   },
   "file_extension": ".py",
   "mimetype": "text/x-python",
   "name": "python",
   "nbconvert_exporter": "python",
   "pygments_lexer": "ipython3",
   "version": "3.11.8"
  }
 },
 "nbformat": 4,
 "nbformat_minor": 5
}
